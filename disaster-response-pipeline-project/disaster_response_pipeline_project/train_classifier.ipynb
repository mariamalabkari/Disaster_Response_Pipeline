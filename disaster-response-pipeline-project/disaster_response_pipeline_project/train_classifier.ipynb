{
 "cells": [
  {
   "cell_type": "code",
   "execution_count": null,
   "id": "2c98108e",
   "metadata": {},
   "outputs": [],
   "source": [
    "# import libraries\n",
    "import nltk\n",
    "from sqlalchemy import create_engine\n",
    "import pandas as pd\n",
    "import numpy as np\n",
    "import pickle\n",
    "import re\n",
    "from sklearn.svm import SVC\n",
    "from nltk.tokenize import word_tokenize\n",
    "from nltk.stem import WordNetLemmatizer\n",
    "from nltk.corpus import stopwords\n",
    "from nltk.stem.porter import PorterStemmer\n",
    "\n",
    "from sklearn.pipeline import Pipeline, FeatureUnion\n",
    "from sklearn.metrics import confusion_matrix, classification_report, hamming_loss\n",
    "from sklearn.model_selection import train_test_split, GridSearchCV\n",
    "from sklearn.multioutput import MultiOutputClassifier\n",
    "from sklearn.ensemble import RandomForestClassifier\n",
    "from sklearn.feature_extraction.text import CountVectorizer, TfidfTransformer\n",
    "from sklearn.base import BaseEstimator, TransformerMixin\n",
    "from sklearn.metrics import accuracy_score, precision_score, recall_score, f1_score, make_scorer\n",
    "nltk.download(['punkt', 'wordnet', 'stopwords', 'averaged_perceptron_tagger'])"
   ]
  },
  {
   "cell_type": "code",
   "execution_count": null,
   "id": "edc69612",
   "metadata": {},
   "outputs": [],
   "source": [
    "# load data from database\n",
    "engine = create_engine('sqlite:////content/sample_data/Database.db')\n",
    "df = pd.read_sql(\"SELECT * FROM DatabaseTable\", engine)\n",
    "df.related.replace(2,1,inplace=True)\n",
    "X = df['message']\n",
    "Y = df.drop(['id', 'message', 'original', 'genre'], axis = 1)\n",
    "#/content/sample_data/Database.db"
   ]
  },
  {
   "cell_type": "code",
   "execution_count": null,
   "id": "5a20cc3c",
   "metadata": {},
   "outputs": [],
   "source": [
    "def tokenize(text):\n",
    "    \n",
    "    url_regex = 'http[s]?://(?:[a-zA-Z]|[0-9]|[$-_@.&+]|[!*\\(\\),]|(?:%[0-9a-fA-F][0-9a-fA-F]))+'\n",
    "    detected_urls = re.findall(url_regex, text)\n",
    "    for url in detected_urls:\n",
    "        text = text.replace(url, \"urlplaceholder\")\n",
    "    \n",
    "    tokens = word_tokenize(text)\n",
    "    lemmatizer = WordNetLemmatizer()\n",
    "    clean_tokens = []\n",
    "    for tok in tokens:\n",
    "       \n",
    "        # Remove stop words\n",
    "        if tok in stopwords.words(\"english\"):\n",
    "            continue\n",
    "        # Reduce words to their stems\n",
    "        tok = PorterStemmer().stem(tok)\n",
    "        # Reduce words to their root form\n",
    "        tok = lemmatizer.lemmatize(tok).lower().strip()\n",
    "\n",
    "        clean_tokens.append(tok)\n",
    "        \n",
    "    clean_tokens = [tok for tok in clean_tokens if tok.isalpha()]\n",
    "    return clean_tokens\n",
    "\n",
    "print(X[3])\n",
    "print(tokenize(X[3]))"
   ]
  },
  {
   "cell_type": "code",
   "execution_count": null,
   "id": "395fc653",
   "metadata": {},
   "outputs": [],
   "source": [
    "# Build a machine learning pipeline\n",
    "pipeline = Pipeline([\n",
    "        ('vect', CountVectorizer(tokenizer=tokenize)),\n",
    "        ('tfidf', TfidfTransformer()),\n",
    "        ('clf', MultiOutputClassifier(RandomForestClassifier()))\n",
    "    ])"
   ]
  },
  {
   "cell_type": "code",
   "execution_count": null,
   "id": "b49d455c",
   "metadata": {},
   "outputs": [],
   "source": [
    "# Train pipeline\n",
    "X_train, X_test, Y_train, Y_test = train_test_split(X, Y)\n",
    " # train classifier\n",
    "pipeline.fit(X_train, Y_train)"
   ]
  },
  {
   "cell_type": "code",
   "execution_count": null,
   "id": "def3e711",
   "metadata": {},
   "outputs": [],
   "source": [
    "# Test your model\n",
    "Y_pred = pipeline.predict(X_test)\n",
    "\n",
    "for ix, col in enumerate(Y.columns):\n",
    "    print(col)\n",
    "    print(classification_report(Y_test[col], Y_pred[:,ix]))\n",
    "\n",
    "avg = (Y_pred == Y_test).mean().mean()\n",
    "print(\"Accuracy Overall:\\n\", avg)"
   ]
  },
  {
   "cell_type": "code",
   "execution_count": null,
   "id": "d49aa05c",
   "metadata": {},
   "outputs": [],
   "source": [
    "# Improve model\n",
    "pipeline.get_params\n",
    "\n",
    "parameters = {\n",
    "        'vect__max_df':[1, 5],\n",
    "        'clf__estimator__n_estimators': [20, 50]\n",
    "    }\n",
    "\n",
    "\n",
    "cv = GridSearchCV(pipeline, param_grid=parameters, verbose=10)\n",
    "cv.fit(X_train, Y_train)"
   ]
  },
  {
   "cell_type": "code",
   "execution_count": null,
   "id": "294c21d8",
   "metadata": {},
   "outputs": [],
   "source": [
    "# test model\n",
    "\n",
    "Y_pred = cv.predict(X_test)\n",
    "for ix, col in enumerate(Y.columns):\n",
    "    print(col)\n",
    "    print(classification_report(Y_test[col], Y_pred[:,ix]))\n",
    "\n",
    "avg = (Y_pred == Y_test).mean().mean()\n",
    "print(\"Accuracy Overall:\\n\", avg)"
   ]
  },
  {
   "cell_type": "code",
   "execution_count": null,
   "id": "60e34caa",
   "metadata": {},
   "outputs": [],
   "source": [
    "# improve model\n",
    "# using SVM instead \n",
    "pipe2 = Pipeline([\n",
    "    ('vect', CountVectorizer(tokenizer = tokenize)),\n",
    "    ('tfidf', TfidfTransformer()),\n",
    "    ('clf', MultiOutputClassifier(SVC()))\n",
    "])\n",
    "\n",
    "parameters2 = {'vect__min_df': [5],\n",
    "              'tfidf__use_idf':[True],\n",
    "              'clf__estimator__kernel': ['poly'], \n",
    "              'clf__estimator__degree': [1, 2, 3],\n",
    "              'clf__estimator__C':[1, 10, 100]}\n",
    "\n",
    "cv2 = GridSearchCV(pipe2, param_grid = parameters2, verbose = 10)\n",
    "\n",
    "# Find best parameters\n",
    "np.random.seed(77)\n",
    "T_model2 = cv2.fit(X_train, Y_train)"
   ]
  },
  {
   "cell_type": "code",
   "execution_count": null,
   "id": "2a93dfbd",
   "metadata": {},
   "outputs": [],
   "source": [
    "# grid search results\n",
    "T_model2.cv_results_"
   ]
  },
  {
   "cell_type": "code",
   "execution_count": null,
   "id": "45ef4039",
   "metadata": {},
   "outputs": [],
   "source": [
    "# Calculate evaluation metrics for test set\n",
    "tuned_pred_test2 = T_model2.predict(X_test)\n",
    "\n",
    "eval_metrics2 = eval_metrics(np.array(Y_test), tuned_pred_test2, col_names)\n",
    "\n",
    "print(eval_metrics2)"
   ]
  },
  {
   "cell_type": "code",
   "execution_count": null,
   "id": "8814db41",
   "metadata": {},
   "outputs": [],
   "source": [
    "# Export model as a pickle file\n",
    "pickle.dump(cv, open(\"classifier.pkl\", 'wb'))"
   ]
  }
 ],
 "metadata": {
  "kernelspec": {
   "display_name": "Python 3",
   "language": "python",
   "name": "python3"
  },
  "language_info": {
   "codemirror_mode": {
    "name": "ipython",
    "version": 3
   },
   "file_extension": ".py",
   "mimetype": "text/x-python",
   "name": "python",
   "nbconvert_exporter": "python",
   "pygments_lexer": "ipython3",
   "version": "3.8.8"
  }
 },
 "nbformat": 4,
 "nbformat_minor": 5
}
